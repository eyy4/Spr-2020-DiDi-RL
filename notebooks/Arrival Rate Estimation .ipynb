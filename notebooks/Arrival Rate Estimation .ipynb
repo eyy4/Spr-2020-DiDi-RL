{
 "cells": [
  {
   "cell_type": "markdown",
   "metadata": {},
   "source": [
    "## Capstone Project - Columbia DSI - DiDi - Spring 2021\n",
    "#### Authors:  Danyang Han,  Anita Pinto,  Elizabeth Yum\n",
    "This file is used to generate the average arrival rate for each taxi zone at a particular time zone. A day is divided into 48 30 min time zones ( delta t)  \n",
    "Reference: https://github.com/skyetim/didi-vehicle-repositioning-strategy(Fall 2020 Capstone Project) "
   ]
  },
  {
   "cell_type": "code",
   "execution_count": 28,
   "metadata": {},
   "outputs": [],
   "source": [
    "import pandas as pd \n",
    "import datetime as dt \n",
    "import numpy as np\n",
    "#from sqlalchemy import create_engine"
   ]
  },
  {
   "cell_type": "code",
   "execution_count": 29,
   "metadata": {},
   "outputs": [],
   "source": [
    "df = pd.read_csv('../data/trip_cleaned.csv') \n"
   ]
  },
  {
   "cell_type": "code",
   "execution_count": 30,
   "metadata": {},
   "outputs": [],
   "source": [
    "# There are 6046 rows where exact pickup time is not recorded. \n",
    "#null_count_by_zone is a list of length 263. Each element is the number of such rows in a particular zone. \n",
    "df['pickup_datetime'] = pd.to_datetime(df['pickup_datetime'])\n",
    "df['pickup_time'] = pd.to_datetime(df['pickup_datetime']).dt.time\n",
    "df_time_null = df.loc[df['pickup_datetime'].dt.time == dt.time(0,0)]\n",
    "null_count_by_zone = [] \n",
    "time_null = df_time_null['pickup_taxizone_id']\n",
    "time_null = time_null.to_list()\n",
    "for i in range(1,264):\n",
    "    null_count_by_zone.append(time_null.count(i))\n",
    "    \n",
    "#null_count_by_zone"
   ]
  },
  {
   "cell_type": "code",
   "execution_count": 31,
   "metadata": {},
   "outputs": [
    {
     "data": {
      "text/plain": [
       "263"
      ]
     },
     "execution_count": 31,
     "metadata": {},
     "output_type": "execute_result"
    }
   ],
   "source": [
    "len(null_count_by_zone)"
   ]
  },
  {
   "cell_type": "code",
   "execution_count": 32,
   "metadata": {},
   "outputs": [
    {
     "data": {
      "text/plain": [
       "(13885739, 33)"
      ]
     },
     "execution_count": 32,
     "metadata": {},
     "output_type": "execute_result"
    }
   ],
   "source": [
    "df.shape"
   ]
  },
  {
   "cell_type": "code",
   "execution_count": 33,
   "metadata": {},
   "outputs": [],
   "source": [
    "#delect all rows where exact pick_up_time is not recorded \n",
    "\n",
    "df = df.drop(df[df['pickup_datetime'].dt.time == dt.time(0,0)].index)"
   ]
  },
  {
   "cell_type": "code",
   "execution_count": 34,
   "metadata": {},
   "outputs": [
    {
     "data": {
      "text/plain": [
       "(13879785, 33)"
      ]
     },
     "execution_count": 34,
     "metadata": {},
     "output_type": "execute_result"
    }
   ],
   "source": [
    "df.shape"
   ]
  },
  {
   "cell_type": "code",
   "execution_count": 35,
   "metadata": {},
   "outputs": [],
   "source": [
    "df['pickup_time'] = pd.to_datetime(df['pickup_datetime']).dt.time\n",
    "#df.loc[:30, ['pickup_datetime', 'pickup_time']]\n"
   ]
  },
  {
   "cell_type": "code",
   "execution_count": 36,
   "metadata": {},
   "outputs": [],
   "source": [
    "#divide 24 hours into 48 time window, each time window is half a hour. \n",
    "time_bins = [dt.time(0,0),dt.time(0,30), dt.time(1,0), dt.time(1,30), dt.time(2,0), \n",
    "        dt.time(2,30), dt.time(3,0), dt.time(3,30), dt.time(4,0),\n",
    "        dt.time(4,30), dt.time(5,0), dt.time(5,30), dt.time(6,0),\n",
    "        dt.time(6,30), dt.time(7,0), dt.time(7,30), dt.time(8,0),\n",
    "        dt.time(8,30), dt.time(9,0), dt.time(9,30), dt.time(10,0),\n",
    "        dt.time(10,30), dt.time(11,0), dt.time(11,30), dt.time(12,0),\n",
    "        dt.time(12,30), dt.time(13,0), dt.time(13,30), dt.time(14,0),\n",
    "        dt.time(14,30), dt.time(15,0), dt.time(15,30), dt.time(16,0), \n",
    "        dt.time(16,30), dt.time(17,0), dt.time(17,30), dt.time(18,0),\n",
    "        dt.time(18,30), dt.time(19,0), dt.time(19,30), dt.time(20,0),\n",
    "        dt.time(20,30), dt.time(21,0), dt.time(21,30), dt.time(22,0),\n",
    "        dt.time(22,30), dt.time(23,0), dt.time(23,30), dt.time(23,59,59)] \n",
    "\n"
   ]
  },
  {
   "cell_type": "code",
   "execution_count": 37,
   "metadata": {},
   "outputs": [],
   "source": [
    "#Split dataframe by time window. Gnenerate 48 csv, each containing all data where the pickup time is within a particular time window \n",
    "#for i in range(1, 48):\n",
    "for i in range(0, 48):\n",
    "    #print(i)\n",
    "    time_window = df.loc[(df['pickup_time'] > time_bins[i]) & (df['pickup_time'] <= time_bins[i+1])]\n",
    "    time_window.to_csv('../data/time_window_' + str(i+1) + '.csv')\n",
    "    #time_window.to_csv('../data/time_window_' + str(i+1) + '.csv')\n"
   ]
  },
  {
   "cell_type": "code",
   "execution_count": 38,
   "metadata": {},
   "outputs": [],
   "source": [
    "#test \n",
    "df_t1 = pd.read_csv('../data/time_window_1.csv')  \n",
    "df_t1\n",
    "\n",
    "t1_zone_arrival = [] \n",
    "for zone in range(1,264):\n",
    "    t1_zone_arrival.append(df_t1.loc[(df_t1['pickup_taxizone_id'] == zone)].shape[0])\n",
    "\n",
    "#t1_zone_arrival\n"
   ]
  },
  {
   "cell_type": "code",
   "execution_count": 39,
   "metadata": {},
   "outputs": [],
   "source": [
    "#test \n",
    "df_t2 = pd.read_csv('../data/time_window_2.csv')  \n",
    "df_t2\n",
    "\n",
    "zone_t_2_arrival = [] \n",
    "for zone in range(1,264):\n",
    "    zone_t_2_arrival.append(df_t2.loc[(df_t2['pickup_taxizone_id'] == zone)].shape[0])\n",
    "#zone_t_2_arrival                          "
   ]
  },
  {
   "cell_type": "code",
   "execution_count": 40,
   "metadata": {},
   "outputs": [],
   "source": [
    "'''\n",
    "returens a list of length 263. Each element in list correspond to the\n",
    "total arrival counts of time window of a particular zone over 180 days. \n",
    "parmarter \"time\" should be an interger in the range of 1 to 48, indicating a time window. \n",
    "For example: 1 means the time window between 0:00 and 0:30, 2 means the time window between 0:30 and 1:00, etc\n",
    "zone_time_arriavl(1) returns a list of total arrival counts of each zone between 00:00 and 00:30 over the 180 days\n",
    "'''\n",
    "def zone_time_arrival(time):\n",
    "    df_t = pd.read_csv('../data/time_window_' + str(time) + '.csv')\n",
    "    zone_time_arrival = [] \n",
    "    for zone in range(1,264):\n",
    "        zone_time_arrival.append(df_t.loc[(df_t['pickup_taxizone_id'] == zone)].shape[0])\n",
    "    return zone_time_arrival "
   ]
  },
  {
   "cell_type": "code",
   "execution_count": 41,
   "metadata": {},
   "outputs": [],
   "source": [
    "arrival_matrix = []\n",
    "for time in range(1,49):\n",
    "    arrival_matrix.append(zone_time_arrival(time))\n",
    "    "
   ]
  },
  {
   "cell_type": "code",
   "execution_count": 42,
   "metadata": {},
   "outputs": [
    {
     "name": "stdout",
     "output_type": "stream",
     "text": [
      "[[   0    1    0 ... 1168 1505 4518]\n",
      " [   0    0    1 ...  961 1179 3829]\n",
      " [   0    0    1 ...  699  904 2945]\n",
      " ...\n",
      " [   1    1    1 ... 1391 2195 5742]\n",
      " [   1    2    0 ... 1343 2034 5430]\n",
      " [   0    4    1 ... 1077 1666 4863]]\n"
     ]
    },
    {
     "data": {
      "text/plain": [
       "matrix([[0.00000000e+00, 3.33333333e-02, 0.00000000e+00, ...,\n",
       "         3.89333333e+01, 5.01666667e+01, 1.50600000e+02],\n",
       "        [0.00000000e+00, 0.00000000e+00, 3.33333333e-02, ...,\n",
       "         3.20333333e+01, 3.93000000e+01, 1.27633333e+02],\n",
       "        [0.00000000e+00, 0.00000000e+00, 3.33333333e-02, ...,\n",
       "         2.33000000e+01, 3.01333333e+01, 9.81666667e+01],\n",
       "        ...,\n",
       "        [3.33333333e-02, 3.33333333e-02, 3.33333333e-02, ...,\n",
       "         4.63666667e+01, 7.31666667e+01, 1.91400000e+02],\n",
       "        [3.33333333e-02, 6.66666667e-02, 0.00000000e+00, ...,\n",
       "         4.47666667e+01, 6.78000000e+01, 1.81000000e+02],\n",
       "        [0.00000000e+00, 1.33333333e-01, 3.33333333e-02, ...,\n",
       "         3.59000000e+01, 5.55333333e+01, 1.62100000e+02]])"
      ]
     },
     "execution_count": 42,
     "metadata": {},
     "output_type": "execute_result"
    }
   ],
   "source": [
    "arrival_matrix = np.matrix(arrival_matrix)\n",
    "np.shape(arrival_matrix)\n",
    "print(arrival_matrix)\n",
    "#average_arrival_matrix = arrival_matrix/180\n",
    "average_arrival_matrix = arrival_matrix/30\n",
    "average_arrival_matrix"
   ]
  },
  {
   "cell_type": "code",
   "execution_count": 43,
   "metadata": {},
   "outputs": [],
   "source": [
    "pd.DataFrame(np.matrix(average_arrival_matrix)).to_csv(\"../data/average_arrival_matrix_48*263.csv\")"
   ]
  },
  {
   "cell_type": "code",
   "execution_count": 44,
   "metadata": {},
   "outputs": [],
   "source": [
    "pd.DataFrame(np.matrix(average_arrival_matrix).T).to_csv(\"../data/average_arrival_matrix_263*48.csv\")"
   ]
  },
  {
   "cell_type": "code",
   "execution_count": 45,
   "metadata": {},
   "outputs": [],
   "source": [
    "def split_by_time():\n",
    "    time_window = []\n",
    "    for i in range(48):\n",
    "        time_window.append(df.loc[(df['pickup_time'] > time_bins[i]) & \n",
    "                                   (df['pickup_time'] <= time_bins[i+1])&  \n",
    "                                   (df['pickup_taxizone_id'] == 1) ])\n",
    "    time_window \n",
    "    "
   ]
  },
  {
   "cell_type": "code",
   "execution_count": 46,
   "metadata": {},
   "outputs": [],
   "source": [
    "zone1_by_time_df = []\n",
    "zone1_time1 = df.loc[(df['pickup_time'] <= time_bins[0]) & (df['pickup_taxizone_id'] == 4)]\n",
    "zone1_by_time_df.append(zone1_time1)\n",
    "for i in range(47): \n",
    "    zone1_by_time_df.append(df.loc[(df['pickup_time'] > time_bins[i]) & \n",
    "                                   (df['pickup_time'] <= time_bins[i+1])&  \n",
    "                                   (df['pickup_taxizone_id'] == 4) ])"
   ]
  },
  {
   "cell_type": "code",
   "execution_count": 47,
   "metadata": {},
   "outputs": [
    {
     "data": {
      "text/html": [
       "<div>\n",
       "<style scoped>\n",
       "    .dataframe tbody tr th:only-of-type {\n",
       "        vertical-align: middle;\n",
       "    }\n",
       "\n",
       "    .dataframe tbody tr th {\n",
       "        vertical-align: top;\n",
       "    }\n",
       "\n",
       "    .dataframe thead th {\n",
       "        text-align: right;\n",
       "    }\n",
       "</style>\n",
       "<table border=\"1\" class=\"dataframe\">\n",
       "  <thead>\n",
       "    <tr style=\"text-align: right;\">\n",
       "      <th></th>\n",
       "      <th>medallion</th>\n",
       "      <th>hack_license</th>\n",
       "      <th>vendor_id</th>\n",
       "      <th>rate_code</th>\n",
       "      <th>pickup_datetime</th>\n",
       "      <th>dropoff_datetime</th>\n",
       "      <th>passenger_count</th>\n",
       "      <th>trip_distance</th>\n",
       "      <th>pickup_longitude</th>\n",
       "      <th>pickup_latitude</th>\n",
       "      <th>...</th>\n",
       "      <th>trip_time</th>\n",
       "      <th>delta</th>\n",
       "      <th>last_dropoff</th>\n",
       "      <th>first_pickup</th>\n",
       "      <th>dropoff_time</th>\n",
       "      <th>pickup_time</th>\n",
       "      <th>dropoff_day</th>\n",
       "      <th>pickup_day</th>\n",
       "      <th>pickup_weekday</th>\n",
       "      <th>dropoff_weekday</th>\n",
       "    </tr>\n",
       "  </thead>\n",
       "  <tbody>\n",
       "  </tbody>\n",
       "</table>\n",
       "<p>0 rows × 33 columns</p>\n",
       "</div>"
      ],
      "text/plain": [
       "Empty DataFrame\n",
       "Columns: [medallion, hack_license, vendor_id, rate_code, pickup_datetime, dropoff_datetime, passenger_count, trip_distance, pickup_longitude, pickup_latitude, dropoff_longitude, dropoff_latitude, pickup_taxizone_id, dropoff_taxizone_id, pickup_datetime_next, dropoff_datetime_next, payment_type, fare_amount, surcharge, mta_tax, tip_amount, tolls_amount, total_amount, trip_time, delta, last_dropoff, first_pickup, dropoff_time, pickup_time, dropoff_day, pickup_day, pickup_weekday, dropoff_weekday]\n",
       "Index: []\n",
       "\n",
       "[0 rows x 33 columns]"
      ]
     },
     "execution_count": 47,
     "metadata": {},
     "output_type": "execute_result"
    }
   ],
   "source": [
    "zone1_by_time_df[0]"
   ]
  },
  {
   "cell_type": "code",
   "execution_count": 48,
   "metadata": {},
   "outputs": [
    {
     "data": {
      "text/html": [
       "<div>\n",
       "<style scoped>\n",
       "    .dataframe tbody tr th:only-of-type {\n",
       "        vertical-align: middle;\n",
       "    }\n",
       "\n",
       "    .dataframe tbody tr th {\n",
       "        vertical-align: top;\n",
       "    }\n",
       "\n",
       "    .dataframe thead th {\n",
       "        text-align: right;\n",
       "    }\n",
       "</style>\n",
       "<table border=\"1\" class=\"dataframe\">\n",
       "  <thead>\n",
       "    <tr style=\"text-align: right;\">\n",
       "      <th></th>\n",
       "      <th>pickup_datetime</th>\n",
       "      <th>pickup_taxizone_id</th>\n",
       "    </tr>\n",
       "  </thead>\n",
       "  <tbody>\n",
       "  </tbody>\n",
       "</table>\n",
       "</div>"
      ],
      "text/plain": [
       "Empty DataFrame\n",
       "Columns: [pickup_datetime, pickup_taxizone_id]\n",
       "Index: []"
      ]
     },
     "execution_count": 48,
     "metadata": {},
     "output_type": "execute_result"
    }
   ],
   "source": [
    "zone1_by_time_df[0].loc[:, ['pickup_datetime', 'pickup_taxizone_id']]"
   ]
  },
  {
   "cell_type": "code",
   "execution_count": 49,
   "metadata": {},
   "outputs": [
    {
     "name": "stdout",
     "output_type": "stream",
     "text": [
      "[0, 1845, 1814, 1725, 1626, 1533, 1348, 1099, 868, 722, 453, 387, 473, 611, 716, 773, 926, 1080, 1052, 1052, 1084, 1098, 1032, 927, 959, 821, 797, 794, 726, 840, 727, 719, 672, 573, 545, 647, 901, 972, 1114, 1192, 1201, 1173, 1283, 1409, 1365, 1421, 1575, 1619]\n"
     ]
    }
   ],
   "source": [
    "zone1_arrival_total = []\n",
    "for i in range(len(zone1_by_time_df)):\n",
    "    zone1_arrival_total.append(zone1_by_time_df[i].shape[0])\n",
    "print(zone1_arrival_total)\n",
    "#zone1_arrival_rate = [zone1_arrival_total/180 for zone1_arrival_total in zone1_arrival_total ] \n",
    "zone1_arrival_rate = [zone1_arrival_total/30 for zone1_arrival_total in zone1_arrival_total ] \n",
    "#zone1_arrival_rate"
   ]
  },
  {
   "cell_type": "code",
   "execution_count": 50,
   "metadata": {},
   "outputs": [],
   "source": [
    "'''\n",
    "Return a list of data frame with length 48. \n",
    "For example, zone_by_time(1)[0] returns a dataframe that contains all rows where pickup zone\n",
    "is 1 and pickup_time is between 0:00 and 0:30 ''' \n",
    "def zone_by_time (zone):\n",
    "    zone_by_time_df = []\n",
    "    zone_time1 = df.loc[(df['pickup_time'] <= time_bins[0]) & (df['pickup_taxizone_id'] == zone)]\n",
    "    zone_by_time_df.append(zone_time1)\n",
    "    for i in range(47): \n",
    "       # print(i)\n",
    "        zone_by_time_df.append(df.loc[(df['pickup_time'] > time_bins[i]) & \n",
    "                                   (df['pickup_time'] <= time_bins[i+1])&  \n",
    "                                   (df['pickup_taxizone_id'] == zone) ])\n",
    "    return zone_by_time_df\n",
    "    "
   ]
  }
 ],
 "metadata": {
  "kernelspec": {
   "display_name": "Python 3",
   "language": "python",
   "name": "python3"
  },
  "language_info": {
   "codemirror_mode": {
    "name": "ipython",
    "version": 3
   },
   "file_extension": ".py",
   "mimetype": "text/x-python",
   "name": "python",
   "nbconvert_exporter": "python",
   "pygments_lexer": "ipython3",
   "version": "3.7.7"
  }
 },
 "nbformat": 4,
 "nbformat_minor": 4
}
