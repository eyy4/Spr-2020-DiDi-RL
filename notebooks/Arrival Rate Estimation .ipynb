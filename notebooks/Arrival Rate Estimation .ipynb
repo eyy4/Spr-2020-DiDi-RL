{
 "cells": [
  {
   "cell_type": "markdown",
   "metadata": {},
   "source": [
    "## Capstone Project - Columbia DSI - DiDi - Spring 2021\n",
    "#### Authors:  Danyang Han,  Anita Pinto,  Elizabeth Yum\n",
    "This file is used to generate the average arrival rate for each taxi zone at a particular time zone. A day is divided into 48 30 min time zones ( delta t)  \n",
    "Reference: https://github.com/skyetim/didi-vehicle-repositioning-strategy(Fall 2020 Capstone Project) "
   ]
  },
  {
   "cell_type": "code",
   "execution_count": 3,
   "metadata": {},
   "outputs": [],
   "source": [
    "import pandas as pd \n",
    "import datetime as dt \n",
    "import numpy as np\n",
    "#from sqlalchemy import create_engine"
   ]
  },
  {
   "cell_type": "code",
   "execution_count": 4,
   "metadata": {},
   "outputs": [],
   "source": [
    "df = pd.read_csv('../data/trip_cleaned.csv') \n"
   ]
  },
  {
   "cell_type": "code",
   "execution_count": 5,
   "metadata": {},
   "outputs": [],
   "source": [
    "# There are 6046 rows where exact pickup time is not recorded. \n",
    "#null_count_by_zone is a list of length 263. Each element is the number of such rows in a particular zone. \n",
    "df['pickup_datetime'] = pd.to_datetime(df['pickup_datetime'])\n",
    "df['pickup_time'] = pd.to_datetime(df['pickup_datetime']).dt.time\n",
    "df_time_null = df.loc[df['pickup_datetime'].dt.time == dt.time(0,0)]\n",
    "null_count_by_zone = [] \n",
    "time_null = df_time_null['pickup_taxizone_id']\n",
    "time_null = time_null.to_list()\n",
    "for i in range(1,264):\n",
    "    null_count_by_zone.append(time_null.count(i))\n",
    "    \n",
    "#null_count_by_zone"
   ]
  },
  {
   "cell_type": "code",
   "execution_count": 7,
   "metadata": {},
   "outputs": [
    {
     "data": {
      "text/plain": [
       "263"
      ]
     },
     "execution_count": 7,
     "metadata": {},
     "output_type": "execute_result"
    }
   ],
   "source": [
    "len(null_count_by_zone)"
   ]
  },
  {
   "cell_type": "code",
   "execution_count": 8,
   "metadata": {},
   "outputs": [],
   "source": [
    "#delect all rows where exact pick_up_time is not recorded \n",
    "\n",
    "df = df.drop(df[df['pickup_datetime'].dt.time == dt.time(0,0)].index)"
   ]
  },
  {
   "cell_type": "code",
   "execution_count": 9,
   "metadata": {},
   "outputs": [
    {
     "data": {
      "text/html": [
       "<div>\n",
       "<style scoped>\n",
       "    .dataframe tbody tr th:only-of-type {\n",
       "        vertical-align: middle;\n",
       "    }\n",
       "\n",
       "    .dataframe tbody tr th {\n",
       "        vertical-align: top;\n",
       "    }\n",
       "\n",
       "    .dataframe thead th {\n",
       "        text-align: right;\n",
       "    }\n",
       "</style>\n",
       "<table border=\"1\" class=\"dataframe\">\n",
       "  <thead>\n",
       "    <tr style=\"text-align: right;\">\n",
       "      <th></th>\n",
       "      <th>pickup_datetime</th>\n",
       "      <th>pickup_time</th>\n",
       "    </tr>\n",
       "  </thead>\n",
       "  <tbody>\n",
       "    <tr>\n",
       "      <th>0</th>\n",
       "      <td>2013-06-24 18:55:00</td>\n",
       "      <td>18:55:00</td>\n",
       "    </tr>\n",
       "    <tr>\n",
       "      <th>1</th>\n",
       "      <td>2013-06-24 19:12:00</td>\n",
       "      <td>19:12:00</td>\n",
       "    </tr>\n",
       "    <tr>\n",
       "      <th>2</th>\n",
       "      <td>2013-06-24 19:45:00</td>\n",
       "      <td>19:45:00</td>\n",
       "    </tr>\n",
       "    <tr>\n",
       "      <th>3</th>\n",
       "      <td>2013-06-24 20:17:00</td>\n",
       "      <td>20:17:00</td>\n",
       "    </tr>\n",
       "    <tr>\n",
       "      <th>4</th>\n",
       "      <td>2013-06-24 20:30:00</td>\n",
       "      <td>20:30:00</td>\n",
       "    </tr>\n",
       "    <tr>\n",
       "      <th>5</th>\n",
       "      <td>2013-06-24 20:37:00</td>\n",
       "      <td>20:37:00</td>\n",
       "    </tr>\n",
       "    <tr>\n",
       "      <th>6</th>\n",
       "      <td>2013-06-24 20:52:00</td>\n",
       "      <td>20:52:00</td>\n",
       "    </tr>\n",
       "    <tr>\n",
       "      <th>7</th>\n",
       "      <td>2013-06-24 22:07:00</td>\n",
       "      <td>22:07:00</td>\n",
       "    </tr>\n",
       "    <tr>\n",
       "      <th>8</th>\n",
       "      <td>2013-06-26 17:24:00</td>\n",
       "      <td>17:24:00</td>\n",
       "    </tr>\n",
       "    <tr>\n",
       "      <th>9</th>\n",
       "      <td>2013-06-26 17:36:00</td>\n",
       "      <td>17:36:00</td>\n",
       "    </tr>\n",
       "    <tr>\n",
       "      <th>10</th>\n",
       "      <td>2013-06-26 17:56:00</td>\n",
       "      <td>17:56:00</td>\n",
       "    </tr>\n",
       "    <tr>\n",
       "      <th>11</th>\n",
       "      <td>2013-06-26 18:12:00</td>\n",
       "      <td>18:12:00</td>\n",
       "    </tr>\n",
       "    <tr>\n",
       "      <th>12</th>\n",
       "      <td>2013-06-26 18:28:00</td>\n",
       "      <td>18:28:00</td>\n",
       "    </tr>\n",
       "    <tr>\n",
       "      <th>13</th>\n",
       "      <td>2013-06-26 18:53:00</td>\n",
       "      <td>18:53:00</td>\n",
       "    </tr>\n",
       "    <tr>\n",
       "      <th>14</th>\n",
       "      <td>2013-06-26 19:13:00</td>\n",
       "      <td>19:13:00</td>\n",
       "    </tr>\n",
       "    <tr>\n",
       "      <th>15</th>\n",
       "      <td>2013-06-26 19:49:00</td>\n",
       "      <td>19:49:00</td>\n",
       "    </tr>\n",
       "    <tr>\n",
       "      <th>16</th>\n",
       "      <td>2013-06-26 20:07:00</td>\n",
       "      <td>20:07:00</td>\n",
       "    </tr>\n",
       "    <tr>\n",
       "      <th>17</th>\n",
       "      <td>2013-06-26 20:29:00</td>\n",
       "      <td>20:29:00</td>\n",
       "    </tr>\n",
       "    <tr>\n",
       "      <th>18</th>\n",
       "      <td>2013-06-26 20:54:00</td>\n",
       "      <td>20:54:00</td>\n",
       "    </tr>\n",
       "    <tr>\n",
       "      <th>19</th>\n",
       "      <td>2013-06-26 21:23:00</td>\n",
       "      <td>21:23:00</td>\n",
       "    </tr>\n",
       "    <tr>\n",
       "      <th>20</th>\n",
       "      <td>2013-06-26 21:37:00</td>\n",
       "      <td>21:37:00</td>\n",
       "    </tr>\n",
       "    <tr>\n",
       "      <th>21</th>\n",
       "      <td>2013-06-26 21:53:00</td>\n",
       "      <td>21:53:00</td>\n",
       "    </tr>\n",
       "    <tr>\n",
       "      <th>22</th>\n",
       "      <td>2013-06-26 22:26:00</td>\n",
       "      <td>22:26:00</td>\n",
       "    </tr>\n",
       "    <tr>\n",
       "      <th>23</th>\n",
       "      <td>2013-06-26 22:36:00</td>\n",
       "      <td>22:36:00</td>\n",
       "    </tr>\n",
       "    <tr>\n",
       "      <th>24</th>\n",
       "      <td>2013-06-26 22:45:00</td>\n",
       "      <td>22:45:00</td>\n",
       "    </tr>\n",
       "    <tr>\n",
       "      <th>25</th>\n",
       "      <td>2013-06-27 00:16:00</td>\n",
       "      <td>00:16:00</td>\n",
       "    </tr>\n",
       "    <tr>\n",
       "      <th>26</th>\n",
       "      <td>2013-06-27 00:25:00</td>\n",
       "      <td>00:25:00</td>\n",
       "    </tr>\n",
       "    <tr>\n",
       "      <th>27</th>\n",
       "      <td>2013-06-27 17:20:00</td>\n",
       "      <td>17:20:00</td>\n",
       "    </tr>\n",
       "    <tr>\n",
       "      <th>28</th>\n",
       "      <td>2013-06-27 17:31:00</td>\n",
       "      <td>17:31:00</td>\n",
       "    </tr>\n",
       "    <tr>\n",
       "      <th>29</th>\n",
       "      <td>2013-06-27 17:41:00</td>\n",
       "      <td>17:41:00</td>\n",
       "    </tr>\n",
       "    <tr>\n",
       "      <th>30</th>\n",
       "      <td>2013-06-27 17:58:00</td>\n",
       "      <td>17:58:00</td>\n",
       "    </tr>\n",
       "  </tbody>\n",
       "</table>\n",
       "</div>"
      ],
      "text/plain": [
       "       pickup_datetime pickup_time\n",
       "0  2013-06-24 18:55:00    18:55:00\n",
       "1  2013-06-24 19:12:00    19:12:00\n",
       "2  2013-06-24 19:45:00    19:45:00\n",
       "3  2013-06-24 20:17:00    20:17:00\n",
       "4  2013-06-24 20:30:00    20:30:00\n",
       "5  2013-06-24 20:37:00    20:37:00\n",
       "6  2013-06-24 20:52:00    20:52:00\n",
       "7  2013-06-24 22:07:00    22:07:00\n",
       "8  2013-06-26 17:24:00    17:24:00\n",
       "9  2013-06-26 17:36:00    17:36:00\n",
       "10 2013-06-26 17:56:00    17:56:00\n",
       "11 2013-06-26 18:12:00    18:12:00\n",
       "12 2013-06-26 18:28:00    18:28:00\n",
       "13 2013-06-26 18:53:00    18:53:00\n",
       "14 2013-06-26 19:13:00    19:13:00\n",
       "15 2013-06-26 19:49:00    19:49:00\n",
       "16 2013-06-26 20:07:00    20:07:00\n",
       "17 2013-06-26 20:29:00    20:29:00\n",
       "18 2013-06-26 20:54:00    20:54:00\n",
       "19 2013-06-26 21:23:00    21:23:00\n",
       "20 2013-06-26 21:37:00    21:37:00\n",
       "21 2013-06-26 21:53:00    21:53:00\n",
       "22 2013-06-26 22:26:00    22:26:00\n",
       "23 2013-06-26 22:36:00    22:36:00\n",
       "24 2013-06-26 22:45:00    22:45:00\n",
       "25 2013-06-27 00:16:00    00:16:00\n",
       "26 2013-06-27 00:25:00    00:25:00\n",
       "27 2013-06-27 17:20:00    17:20:00\n",
       "28 2013-06-27 17:31:00    17:31:00\n",
       "29 2013-06-27 17:41:00    17:41:00\n",
       "30 2013-06-27 17:58:00    17:58:00"
      ]
     },
     "execution_count": 9,
     "metadata": {},
     "output_type": "execute_result"
    }
   ],
   "source": [
    "df['pickup_time'] = pd.to_datetime(df['pickup_datetime']).dt.time\n",
    "#df.loc[:30, ['pickup_datetime', 'pickup_time']]\n"
   ]
  },
  {
   "cell_type": "code",
   "execution_count": 10,
   "metadata": {},
   "outputs": [],
   "source": [
    "#divide 24 hours into 48 time window, each time window is half a hour. \n",
    "time_bins = [dt.time(0,0),dt.time(0,30), dt.time(1,0), dt.time(1,30), dt.time(2,0), \n",
    "        dt.time(2,30), dt.time(3,0), dt.time(3,30), dt.time(4,0),\n",
    "        dt.time(4,30), dt.time(5,0), dt.time(5,30), dt.time(6,0),\n",
    "        dt.time(6,30), dt.time(7,0), dt.time(7,30), dt.time(8,0),\n",
    "        dt.time(8,30), dt.time(9,0), dt.time(9,30), dt.time(10,0),\n",
    "        dt.time(10,30), dt.time(11,0), dt.time(11,30), dt.time(12,0),\n",
    "        dt.time(12,30), dt.time(13,0), dt.time(13,30), dt.time(14,0),\n",
    "        dt.time(14,30), dt.time(15,0), dt.time(15,30), dt.time(16,0), \n",
    "        dt.time(16,30), dt.time(17,0), dt.time(17,30), dt.time(18,0),\n",
    "        dt.time(18,30), dt.time(19,0), dt.time(19,30), dt.time(20,0),\n",
    "        dt.time(20,30), dt.time(21,0), dt.time(21,30), dt.time(22,0),\n",
    "        dt.time(22,30), dt.time(23,0), dt.time(23,30), dt.time(23,59,59)] \n",
    "\n"
   ]
  },
  {
   "cell_type": "code",
   "execution_count": 18,
   "metadata": {},
   "outputs": [],
   "source": [
    "#Split dataframe by time window. Gnenerate 48 csv, each containing all data where the pickup time is within a particular time window \n",
    "#for i in range(1, 48):\n",
    "for i in range(0, 48):\n",
    "    #print(i)\n",
    "    time_window = df.loc[(df['pickup_time'] > time_bins[i]) & (df['pickup_time'] <= time_bins[i+1])]\n",
    "    time_window.to_csv('../data/time_window_' + str(i+1) + '.csv')\n",
    "    #time_window.to_csv('../data/time_window_' + str(i+1) + '.csv')\n"
   ]
  },
  {
   "cell_type": "code",
   "execution_count": 19,
   "metadata": {},
   "outputs": [],
   "source": [
    "#test \n",
    "df_t1 = pd.read_csv('../data/time_window_1.csv')  \n",
    "df_t1\n",
    "\n",
    "t1_zone_arrival = [] \n",
    "for zone in range(1,264):\n",
    "    t1_zone_arrival.append(df_t1.loc[(df_t1['pickup_taxizone_id'] == zone)].shape[0])\n",
    "\n",
    "#t1_zone_arrival\n"
   ]
  },
  {
   "cell_type": "code",
   "execution_count": 17,
   "metadata": {},
   "outputs": [],
   "source": [
    "#test \n",
    "df_t2 = pd.read_csv('../data/time_window_2.csv')  \n",
    "df_t2\n",
    "\n",
    "zone_t_2_arrival = [] \n",
    "for zone in range(1,264):\n",
    "    zone_t_2_arrival.append(df_t2.loc[(df_t2['pickup_taxizone_id'] == zone)].shape[0])\n",
    "#zone_t_2_arrival                          "
   ]
  },
  {
   "cell_type": "code",
   "execution_count": 20,
   "metadata": {},
   "outputs": [],
   "source": [
    "'''\n",
    "returens a list of length 263. Each element in list correspond to the\n",
    "total arrival counts of time window of a particular zone over 180 days. \n",
    "parmarter \"time\" should be an interger in the range of 1 to 48, indicating a time window. \n",
    "For example: 1 means the time window between 0:00 and 0:30, 2 means the time window between 0:30 and 1:00, etc\n",
    "zone_time_arriavl(1) returns a list of total arrival counts of each zone between 00:00 and 00:30 over the 180 days\n",
    "'''\n",
    "def zone_time_arrival(time):\n",
    "    df_t = pd.read_csv('../data/time_window_' + str(time) + '.csv')\n",
    "    zone_time_arrival = [] \n",
    "    for zone in range(1,264):\n",
    "        zone_time_arrival.append(df_t.loc[(df_t['pickup_taxizone_id'] == zone)].shape[0])\n",
    "    return zone_time_arrival "
   ]
  },
  {
   "cell_type": "code",
   "execution_count": 21,
   "metadata": {},
   "outputs": [],
   "source": [
    "arrival_matrix = []\n",
    "for time in range(1,49):\n",
    "    arrival_matrix.append(zone_time_arrival(time))\n",
    "    "
   ]
  },
  {
   "cell_type": "code",
   "execution_count": 22,
   "metadata": {},
   "outputs": [
    {
     "name": "stdout",
     "output_type": "stream",
     "text": [
      "[[   0    1    0 ... 1168 1505 4518]\n",
      " [   0    0    1 ...  961 1179 3829]\n",
      " [   0    0    1 ...  699  904 2945]\n",
      " ...\n",
      " [   1    1    1 ... 1391 2195 5742]\n",
      " [   1    2    0 ... 1343 2034 5430]\n",
      " [   0    4    1 ... 1077 1666 4863]]\n"
     ]
    },
    {
     "data": {
      "text/plain": [
       "matrix([[0.00000000e+00, 5.55555556e-03, 0.00000000e+00, ...,\n",
       "         6.48888889e+00, 8.36111111e+00, 2.51000000e+01],\n",
       "        [0.00000000e+00, 0.00000000e+00, 5.55555556e-03, ...,\n",
       "         5.33888889e+00, 6.55000000e+00, 2.12722222e+01],\n",
       "        [0.00000000e+00, 0.00000000e+00, 5.55555556e-03, ...,\n",
       "         3.88333333e+00, 5.02222222e+00, 1.63611111e+01],\n",
       "        ...,\n",
       "        [5.55555556e-03, 5.55555556e-03, 5.55555556e-03, ...,\n",
       "         7.72777778e+00, 1.21944444e+01, 3.19000000e+01],\n",
       "        [5.55555556e-03, 1.11111111e-02, 0.00000000e+00, ...,\n",
       "         7.46111111e+00, 1.13000000e+01, 3.01666667e+01],\n",
       "        [0.00000000e+00, 2.22222222e-02, 5.55555556e-03, ...,\n",
       "         5.98333333e+00, 9.25555556e+00, 2.70166667e+01]])"
      ]
     },
     "execution_count": 22,
     "metadata": {},
     "output_type": "execute_result"
    }
   ],
   "source": [
    "arrival_matrix = np.matrix(arrival_matrix)\n",
    "np.shape(arrival_matrix)\n",
    "print(arrival_matrix)\n",
    "average_arrival_matrix = arrival_matrix/180\n",
    "average_arrival_matrix"
   ]
  },
  {
   "cell_type": "code",
   "execution_count": 23,
   "metadata": {},
   "outputs": [],
   "source": [
    "pd.DataFrame(np.matrix(average_arrival_matrix)).to_csv(\"../data/average_arrival_matrix_48*263.csv\")"
   ]
  },
  {
   "cell_type": "code",
   "execution_count": 24,
   "metadata": {},
   "outputs": [],
   "source": [
    "pd.DataFrame(np.matrix(average_arrival_matrix).T).to_csv(\"../data/average_arrival_matrix_263*48.csv\")"
   ]
  },
  {
   "cell_type": "code",
   "execution_count": 25,
   "metadata": {},
   "outputs": [
    {
     "ename": "SyntaxError",
     "evalue": "invalid syntax (<ipython-input-25-ab09fa4254ed>, line 1)",
     "output_type": "error",
     "traceback": [
      "\u001b[0;36m  File \u001b[0;32m\"<ipython-input-25-ab09fa4254ed>\"\u001b[0;36m, line \u001b[0;32m1\u001b[0m\n\u001b[0;31m    def split_by_time:\u001b[0m\n\u001b[0m                     ^\u001b[0m\n\u001b[0;31mSyntaxError\u001b[0m\u001b[0;31m:\u001b[0m invalid syntax\n"
     ]
    }
   ],
   "source": [
    "def split_by_time:\n",
    "    time_window = []\n",
    "    for i in range(48):\n",
    "        time_window.append(df.loc[(df['pickup_time'] > time_bins[i]) & \n",
    "                                   (df['pickup_time'] <= time_bins[i+1])&  \n",
    "                                   (df['pickup_taxizone_id'] == 1) ])\n",
    "    time_window \n",
    "    "
   ]
  },
  {
   "cell_type": "code",
   "execution_count": null,
   "metadata": {},
   "outputs": [],
   "source": [
    "zone1_by_time_df = []\n",
    "zone1_time1 = df.loc[(df['pickup_time'] <= time_bins[0]) & (df['pickup_taxizone_id'] == 4)]\n",
    "zone1_by_time_df.append(zone1_time1)\n",
    "for i in range(47): \n",
    "    zone1_by_time_df.append(df.loc[(df['pickup_time'] > time_bins[i]) & \n",
    "                                   (df['pickup_time'] <= time_bins[i+1])&  \n",
    "                                   (df['pickup_taxizone_id'] == 4) ])"
   ]
  },
  {
   "cell_type": "code",
   "execution_count": null,
   "metadata": {},
   "outputs": [],
   "source": [
    "zone1_by_time_df[0]"
   ]
  },
  {
   "cell_type": "code",
   "execution_count": null,
   "metadata": {},
   "outputs": [],
   "source": [
    "zone1_by_time_df[0].loc[:, ['pickup_datetime', 'pickup_taxizone_id']]"
   ]
  },
  {
   "cell_type": "code",
   "execution_count": null,
   "metadata": {},
   "outputs": [],
   "source": [
    "zone1_arrival_total = []\n",
    "for i in range(len(zone1_by_time_df)):\n",
    "    zone1_arrival_total.append(zone1_by_time_df[i].shape[0])\n",
    "print(zone1_arrival_total)\n",
    "zone1_arrival_rate = [zone1_arrival_total/180 for zone1_arrival_total in zone1_arrival_total ]    \n",
    "#zone1_arrival_rate"
   ]
  },
  {
   "cell_type": "code",
   "execution_count": null,
   "metadata": {},
   "outputs": [],
   "source": [
    "'''\n",
    "Return a list of data frame with length 48. \n",
    "For example, zone_by_time(1)[0] returns a dataframe that contains all rows where pickup zone\n",
    "is 1 and pickup_time is between 0:00 and 0:30 ''' \n",
    "def zone_by_time (zone):\n",
    "    zone_by_time_df = []\n",
    "    zone_time1 = df.loc[(df['pickup_time'] <= time_bins[0]) & (df['pickup_taxizone_id'] == zone)]\n",
    "    zone_by_time_df.append(zone_time1)\n",
    "    for i in range(47): \n",
    "       # print(i)\n",
    "        zone_by_time_df.append(df.loc[(df['pickup_time'] > time_bins[i]) & \n",
    "                                   (df['pickup_time'] <= time_bins[i+1])&  \n",
    "                                   (df['pickup_taxizone_id'] == zone) ])\n",
    "    return zone_by_time_df\n",
    "    "
   ]
  }
 ],
 "metadata": {
  "kernelspec": {
   "display_name": "Python 3",
   "language": "python",
   "name": "python3"
  },
  "language_info": {
   "codemirror_mode": {
    "name": "ipython",
    "version": 3
   },
   "file_extension": ".py",
   "mimetype": "text/x-python",
   "name": "python",
   "nbconvert_exporter": "python",
   "pygments_lexer": "ipython3",
   "version": "3.7.7"
  }
 },
 "nbformat": 4,
 "nbformat_minor": 4
}
